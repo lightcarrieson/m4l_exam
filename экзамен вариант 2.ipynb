{
 "cells": [
  {
   "cell_type": "markdown",
   "metadata": {},
   "source": [
    "Вариант 2: Дан текст, разделенный на абзацы. Необходимо построить обратный индекс этого текста, показывающий в каком абзаце и на какой позиции хранится слово. Пользователь вводит два слова. Необходимо определить, находятся ли эти два слова в соседних абзацах. Если слова находятся в одном абзаце, необходимо найти расстояние между ними."
   ]
  },
  {
   "cell_type": "code",
   "execution_count": null,
   "metadata": {},
   "outputs": [],
   "source": [
    "import re"
   ]
  },
  {
   "cell_type": "code",
   "execution_count": null,
   "metadata": {},
   "outputs": [],
   "source": [
    "def cleantext(text):\n",
    "    punctuation = re.compile(r'[.?!,@#$%^&*()\\\"№:;\\-–—+<>/\\\\«»]')\n",
    "    clean = re.sub(punctuation, '', text)\n",
    "    return clean.lower()"
   ]
  },
  {
   "cell_type": "code",
   "execution_count": null,
   "metadata": {},
   "outputs": [],
   "source": [
    "text = 'input.txt'\n",
    "with open(text, encoding = 'utf-8') as f:\n",
    "    f = f.read()\n",
    "    f = cleantext(f)\n",
    "    paragraphs = f.split('\\n')\n",
    "    # Убираем пустые строки из списка абзацев\n",
    "    paragraphs = [i for i in paragraphs if i]\n",
    "# Создаём словарь, в котором ключи — номера абзацев, а значения — списки из слов этого абзаца\n",
    "splittext = {}\n",
    "i = -1\n",
    "for paragraph in paragraphs:\n",
    "    i += 1\n",
    "    splitparagraph = paragraph.split()\n",
    "    splittext[i] = splitparagraph"
   ]
  },
  {
   "cell_type": "code",
   "execution_count": null,
   "metadata": {},
   "outputs": [],
   "source": [
    "def addPostfix(postfix, curLevel):    \n",
    "    # Если в префиксе осталось только два элемента, то это наш индекс\n",
    "    if len(postfix) == 2:  \n",
    "        # Добавим словарь {'индексы':[[индекс 1], [индекс 2], [индекс 3]...]} для хранения множественных вхождений\n",
    "        index = [postfix[0], postfix[1]]\n",
    "        if curLevel.get('индексы', None) == None:\n",
    "            curLevel.update({'индексы': [index]})\n",
    "        elif index not in curLevel['индексы']:\n",
    "            curLevel['индексы'].append(index)\n",
    "        return\n",
    "    # Такого начала нет в словаре. Его надо добавить.\n",
    "    if curLevel.get((postfix[0]), None) == None:\n",
    "        curLevel[postfix[0]] = {}\n",
    "    # Добавляем оставшуюся часть в соответствующий узел.\n",
    "    return addPostfix(postfix[1:], curLevel[postfix[0]])"
   ]
  },
  {
   "cell_type": "code",
   "execution_count": null,
   "metadata": {},
   "outputs": [],
   "source": [
    "def findPrefix(prefix, curLevel):\n",
    "    # Префикс пустой — остались только индексы.\n",
    "    if len(prefix) == 0:\n",
    "        return curLevel['индексы']\n",
    "    # Такого слова нет в дереве\n",
    "    elif curLevel.get(prefix[0], None) == None:\n",
    "        return -1\n",
    "    # Поиск не закончен, переходим на следующий уровень, убрав очередной символ из начала.\n",
    "    return findPrefix(prefix[1:], curLevel[prefix[0]])"
   ]
  },
  {
   "cell_type": "code",
   "execution_count": null,
   "metadata": {},
   "outputs": [],
   "source": [
    "# Составляем дерево\n",
    "# В него добавляем слова по букве, последнее значение — список индексов слова\n",
    "trie = {}\n",
    "for num, words in splittext.items():\n",
    "    for word in words:\n",
    "        occurences = [i for i, x in enumerate(words) if x == word]\n",
    "        for j in occurences:\n",
    "            wordind = list(word)+[num,j]\n",
    "            addPostfix(wordind, trie)"
   ]
  },
  {
   "cell_type": "code",
   "execution_count": null,
   "metadata": {},
   "outputs": [],
   "source": [
    "# Поиск по одному слову\n",
    "word = input('Введите слово: ')\n",
    "indices = findPrefix(list(word),trie)\n",
    "if indices == -1:\n",
    "    print('такого слова нет')\n",
    "else:\n",
    "    print('это слово встречается на позициях', indices)"
   ]
  },
  {
   "cell_type": "code",
   "execution_count": null,
   "metadata": {},
   "outputs": [],
   "source": [
    "# Поиск по двум словам\n",
    "first = input('Первое слово — ')\n",
    "second = input('Второе слово — ')\n",
    "indices1 = findPrefix(list(first),trie)\n",
    "indices2 = findPrefix(list(second),trie)\n",
    "closest, nextpar = None, None\n",
    "if indices1 != -1 and indices2 != -1:\n",
    "    for i1 in indices1:\n",
    "        for i2 in indices2:\n",
    "            if i1[0] == i2[0]:\n",
    "                if closest == None:\n",
    "                    closest = abs(i1[1]-i2[1])\n",
    "                elif closest > abs(i1[1]-i2[1]):\n",
    "                    closest = abs(i1[1]-i2[1])\n",
    "            elif abs(i1[0]-i2[0]) == 1:\n",
    "                nextpar = [i1[0],i2[0]]\n",
    "    if closest != None:\n",
    "        print('слова встречаются в одном абзаце, наименьшее расстояние —', closest)\n",
    "    elif nextpar:\n",
    "        print('слова встречаются в соседних абзацах', nextpar[0], 'и', nextpar[1])\n",
    "    else:\n",
    "        print('слова не встречаются ни в одном, ни в соседних абзацах')\n",
    "else:\n",
    "    print('одного или обоих этих слов нет в тексте')"
   ]
  }
 ],
 "metadata": {
  "kernelspec": {
   "display_name": "Python 3",
   "language": "python",
   "name": "python3"
  },
  "language_info": {
   "codemirror_mode": {
    "name": "ipython",
    "version": 3
   },
   "file_extension": ".py",
   "mimetype": "text/x-python",
   "name": "python",
   "nbconvert_exporter": "python",
   "pygments_lexer": "ipython3",
   "version": "3.8.5"
  }
 },
 "nbformat": 4,
 "nbformat_minor": 4
}
